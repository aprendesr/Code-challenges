{
 "metadata": {
  "language_info": {
   "codemirror_mode": {
    "name": "ipython",
    "version": 3
   },
   "file_extension": ".py",
   "mimetype": "text/x-python",
   "name": "python",
   "nbconvert_exporter": "python",
   "pygments_lexer": "ipython3",
   "version": "3.8.5"
  },
  "orig_nbformat": 2,
  "kernelspec": {
   "name": "python385jvsc74a57bd0f871b8c0e8ffaf06d88520d23ebfa543d97805f0741b6fa3f6d7830a8ab6bea5",
   "display_name": "Python 3.8.5 64-bit ('base': conda)"
  }
 },
 "nbformat": 4,
 "nbformat_minor": 2,
 "cells": [
  {
   "source": [
    "## Author: Alina Prendes Roque"
   ],
   "cell_type": "markdown",
   "metadata": {}
  },
  {
   "source": [
    "### Challenge: create a Python function to play a sound and/or print a message at a specific time\n",
    "\n",
    "Note: in case the function wants to be used for a specific date/ time in the future (not within the next 24h), it is possible to make some small changes to the function so that this becomes possible. There is an example below of how it can be achieved"
   ],
   "cell_type": "markdown",
   "metadata": {}
  },
  {
   "cell_type": "code",
   "execution_count": 1,
   "metadata": {},
   "outputs": [],
   "source": [
    "import time\n",
    "import winsound"
   ]
  },
  {
   "cell_type": "code",
   "execution_count": 2,
   "metadata": {},
   "outputs": [],
   "source": [
    "def set_alarm(set_time, tone=None, message=None):\n",
    "    ''' This function allows to play a sound and/or print a message at a specific time, similar to how an alarm on the cellphone works. It has three inputs: the time at which the sound and/or the message should be set, the tone, which must be set to True if a sound is desired, and a message, in case some information is to be printed. The last two inputs are optional, as the user can determine whether a sound should be played and whether a message should be printed. For example:\n",
    "    For the following input: set_alarm(\"11:00\", True, \"Please don't forget your job interview today at 4pm\"), an alarm will sound at 4 o'clock pm and the message \"Please don't forget your job interview today at 4pm\" will be printed.   \n",
    "    '''\n",
    "    Done=None\n",
    "    while not Done==True:\n",
    "        if time.ctime().split()[3][0:5]==set_time: # time.strftime(\"%H:%M\", time.localtime()) would be an alternative code for this\n",
    "            if not tone==None: winsound.Beep(500, 1500)\n",
    "            if not message==None: print(message)\n",
    "            Done=True"
   ]
  },
  {
   "cell_type": "code",
   "execution_count": 3,
   "metadata": {},
   "outputs": [
    {
     "output_type": "stream",
     "name": "stdout",
     "text": [
      "Please don't forget your job interview today at 4pm\n"
     ]
    }
   ],
   "source": [
    "set_alarm(\"11:00\", True, \"Please don't forget your job interview today at 4pm\")"
   ]
  },
  {
   "cell_type": "code",
   "execution_count": 4,
   "metadata": {},
   "outputs": [],
   "source": [
    "def set_alarm_future(set_date_time, tone=None, message=None):\n",
    "    ''' This function allows to play a sound and/or print a message at a specific date and time in the future, similar to how a reminder on the cellphone works. It has three inputs: the date and time at which the sound and/or the message should be set, the tone, which must be set to True if a sound is desired, and a message, in case some information is to be printed. The last two inputs are optional, as the user can determine whether a sound must be played and whether a message should be printed. For example:\n",
    "    For the following input: set_alarm_future(\"May 27 11:00:00 2021\", True, \"Please don't forget to prepare for your job interview on Monday\"), an alarm will sound at the provided date and time, and the message \"Please don't forget to prepare for your job interview on Monday\" will be printed.   \n",
    "    '''\n",
    "    Done=None\n",
    "    while not Done==True:\n",
    "        if time.ctime()[4::]==set_date_time: # time.strftime(\"%m/%d/%Y, %H:%M:%S\", time.localtime())\n",
    "            if not tone==None: winsound.Beep(500, 1500)\n",
    "            if not message==None: print(message)\n",
    "            Done=True"
   ]
  },
  {
   "cell_type": "code",
   "execution_count": 5,
   "metadata": {},
   "outputs": [
    {
     "output_type": "stream",
     "name": "stdout",
     "text": [
      "Please don't forget to prepare for your job interview on Monday\n"
     ]
    }
   ],
   "source": [
    "set_alarm_future(\"May 27 11:00:00 2021\", True, \"Please don't forget to prepare for your job interview on Monday\")"
   ]
  }
 ]
}