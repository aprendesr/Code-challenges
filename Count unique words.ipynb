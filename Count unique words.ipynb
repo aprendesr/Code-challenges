{
 "metadata": {
  "language_info": {
   "codemirror_mode": {
    "name": "ipython",
    "version": 3
   },
   "file_extension": ".py",
   "mimetype": "text/x-python",
   "name": "python",
   "nbconvert_exporter": "python",
   "pygments_lexer": "ipython3",
   "version": "3.9.3"
  },
  "orig_nbformat": 2,
  "kernelspec": {
   "name": "python3",
   "display_name": "Python 3.9.3 64-bit"
  },
  "interpreter": {
   "hash": "2f8e0b015f7cbe8bca759a12ca466dc64ed9680d5dadd94aff6735eaff601a41"
  }
 },
 "nbformat": 4,
 "nbformat_minor": 2,
 "cells": [
  {
   "cell_type": "markdown",
   "source": [
    "## Author: Alina Prendes Roque"
   ],
   "metadata": {}
  },
  {
   "cell_type": "markdown",
   "source": [
    "### Challenge: create a function to count the number of unique words and how often each of them occurs"
   ],
   "metadata": {}
  },
  {
   "cell_type": "code",
   "execution_count": 1,
   "source": [
    "def count_unique_words(file_path):\r\n",
    "    ''' This function allows to count the total number of words that exist in a given text, as well as the absolute frequency of each unique word. It requires the path of the file that contains the text (.txt format) and returns the total number of words, and a dictionary with each unique word and its corresponding absolute frequency, sorted by absolute frequency. The function is not case sensitive, so the words \"Text\", \"text\" and \"TEXT\" would represent an absolute frequency of three of the same word. For example:\r\n",
    "    For the following input: count_unique_words(\"\"romeo.txt\"), the output could be:\r\n",
    "    The text has in total: 40 words\r\n",
    "    {'is': 4, 'the': 3, 'and': 3, 'but': 2, 'sun': 2, 'arise': 2, 'soft': 1, 'what': 1, 'light': 1, 'through': 1, 'yonder': 1, 'window': 1, 'breaks': 1,'it': 1, 'east': 1, 'juliet': 1, 'fair': 1, 'kill': 1, 'envious': 1, 'moon': 1, 'who': 1, 'already': 1, 'sick': 1, 'pale': 1, 'with': 1, 'grief': 1,'this': 1, 'just': 1, 'an': 1, 'example': 1}\r\n",
    "    '''\r\n",
    "    total=0\r\n",
    "    occurrence=dict()\r\n",
    "    text=open(file_path)\r\n",
    "    for line in text:\r\n",
    "        total=total+len(line.split())\r\n",
    "        for word in line.split(): \r\n",
    "            word=word.lower()\r\n",
    "            occurrence[word] = (occurrence.get(word, 0) + 1)\r\n",
    "    print(\"The text has in total: \" + str(total) + \" words\")\r\n",
    "\r\n",
    "    # In case it is desired to show only the (e.g. 20) top elements of the dictionary, it is possible to uncomment the following code\r\n",
    "    # for item in list(dict(sorted(occurrence.items(),key= lambda x:x[1],reverse=True)))[0:20]:\r\n",
    "    #     print (\"key {}, value {} \".format(item,  occurrence[item]))\r\n",
    "\r\n",
    "    print(dict(sorted(occurrence.items(),key= lambda x:x[1],reverse=True)))"
   ],
   "outputs": [],
   "metadata": {}
  },
  {
   "cell_type": "code",
   "execution_count": 2,
   "source": [
    "count_unique_words(\"romeo.txt\")"
   ],
   "outputs": [
    {
     "output_type": "stream",
     "name": "stdout",
     "text": [
      "The text has in total: 40 words\n",
      "{'is': 4, 'the': 3, 'and': 3, 'but': 2, 'sun': 2, 'arise': 2, 'soft': 1, 'what': 1, 'light': 1, 'through': 1, 'yonder': 1, 'window': 1, 'breaks': 1, 'it': 1, 'east': 1, 'juliet': 1, 'fair': 1, 'kill': 1, 'envious': 1, 'moon': 1, 'who': 1, 'already': 1, 'sick': 1, 'pale': 1, 'with': 1, 'grief': 1, 'this': 1, 'just': 1, 'an': 1, 'example': 1}\n"
     ]
    }
   ],
   "metadata": {
    "tags": []
   }
  },
  {
   "cell_type": "code",
   "execution_count": null,
   "source": [],
   "outputs": [],
   "metadata": {}
  }
 ]
}