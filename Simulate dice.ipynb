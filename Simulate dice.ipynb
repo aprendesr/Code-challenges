{
 "metadata": {
  "language_info": {
   "codemirror_mode": {
    "name": "ipython",
    "version": 3
   },
   "file_extension": ".py",
   "mimetype": "text/x-python",
   "name": "python",
   "nbconvert_exporter": "python",
   "pygments_lexer": "ipython3",
   "version": "3.9.3"
  },
  "orig_nbformat": 2,
  "kernelspec": {
   "name": "python3",
   "display_name": "Python 3.9.3 64-bit"
  },
  "interpreter": {
   "hash": "2f8e0b015f7cbe8bca759a12ca466dc64ed9680d5dadd94aff6735eaff601a41"
  }
 },
 "nbformat": 4,
 "nbformat_minor": 2,
 "cells": [
  {
   "cell_type": "markdown",
   "source": [
    "## Author: Alina Prendes Roque"
   ],
   "metadata": {}
  },
  {
   "cell_type": "markdown",
   "source": [
    "### Challenge: create a Python function to determine the probability of certain outcomes when rolling dice"
   ],
   "metadata": {}
  },
  {
   "cell_type": "code",
   "execution_count": 1,
   "source": [
    "def simulate_dice(side_number,simulations=1000000):\r\n",
    "    ''' This function allows to simulate rolling dices and determines the probability of certain outcomes. It requires as an input the number of sides of each simulated dice in form of a list, as well as the number of simulations to run. The second input is optional and its default value is set to 1000000. The function provides a dictionary that contains the different possible outcomes and their corresponding probability. In this case, the Monte Carlo Simulation method is used to determine the outcome probability. Due to the existing randomness, the results might slightly differ from one simulation to the other. For example:\r\n",
    "    For the following input: simulate_dice([4,6,6]), the following dictionary is obtained: \r\n",
    "    {3: '7.20%',\r\n",
    "    4: '7.15%',\r\n",
    "    5: '7.11%',\r\n",
    "    6: '7.14%',\r\n",
    "    7: '7.12%',\r\n",
    "    8: '7.12%',\r\n",
    "    9: '7.14%',\r\n",
    "    10: '7.15%',\r\n",
    "    11: '7.13%',\r\n",
    "    12: '7.17%',\r\n",
    "    13: '7.14%',\r\n",
    "    14: '7.16%',\r\n",
    "    15: '7.15%',\r\n",
    "    16: '7.12%'}\r\n",
    "    '''\r\n",
    "    import random\r\n",
    "    lista=list()\r\n",
    "    freq=dict()\r\n",
    "    for n in range(simulations):\r\n",
    "        value=random.randint(len(side_number),sum(side_number))\r\n",
    "        lista.append(value)\r\n",
    "    lista.sort()\r\n",
    "    for item in lista: freq[item] = (freq.get(item, 0) + 1)\r\n",
    "    for key in freq.keys(): freq[key]=format(freq.get(key)/simulations,\".2%\")\r\n",
    "    return(freq)"
   ],
   "outputs": [],
   "metadata": {}
  },
  {
   "cell_type": "code",
   "execution_count": 2,
   "source": [
    "simulate_dice([4,6,6])"
   ],
   "outputs": [
    {
     "output_type": "execute_result",
     "data": {
      "text/plain": [
       "{3: '7.11%',\n",
       " 4: '7.12%',\n",
       " 5: '7.17%',\n",
       " 6: '7.11%',\n",
       " 7: '7.16%',\n",
       " 8: '7.17%',\n",
       " 9: '7.12%',\n",
       " 10: '7.15%',\n",
       " 11: '7.15%',\n",
       " 12: '7.12%',\n",
       " 13: '7.14%',\n",
       " 14: '7.17%',\n",
       " 15: '7.11%',\n",
       " 16: '7.19%'}"
      ]
     },
     "metadata": {},
     "execution_count": 2
    }
   ],
   "metadata": {}
  }
 ]
}