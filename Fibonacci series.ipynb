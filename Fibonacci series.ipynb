{
 "metadata": {
  "language_info": {
   "codemirror_mode": {
    "name": "ipython",
    "version": 3
   },
   "file_extension": ".py",
   "mimetype": "text/x-python",
   "name": "python",
   "nbconvert_exporter": "python",
   "pygments_lexer": "ipython3",
   "version": "3.9.3"
  },
  "orig_nbformat": 2,
  "kernelspec": {
   "name": "python3",
   "display_name": "Python 3.9.3 64-bit"
  },
  "interpreter": {
   "hash": "2f8e0b015f7cbe8bca759a12ca466dc64ed9680d5dadd94aff6735eaff601a41"
  }
 },
 "nbformat": 4,
 "nbformat_minor": 2,
 "cells": [
  {
   "cell_type": "markdown",
   "source": [
    "## Author: Alina Prendes Roque"
   ],
   "metadata": {}
  },
  {
   "cell_type": "markdown",
   "source": [
    "### Challenge: write a Python function to  produce Fibonacci series until a given number"
   ],
   "metadata": {}
  },
  {
   "cell_type": "code",
   "execution_count": 1,
   "source": [
    "def fibonacci_series(number):\r\n",
    "    ''' This function provides a Fibonacci series, which consists of a series of numbers such that each number is the sum of the two preceding ones, starting from 0 and 1. It requires an integer as an input and the output is a Fibonacci series, i.e., a list of numbers that ends when the input value is reached. For example:\r\n",
    "    For the following input: fibonacci_series(13), the output would be: [0, 1, 1, 2, 3, 5, 8, 13]\r\n",
    "    For the following input: fibonacci_series(62), the output would be: [0, 1, 1, 2, 3, 5, 8, 13, 21, 34, 55]\r\n",
    "    '''\r\n",
    "    fibonacci_series=[0,1]\r\n",
    "    a,b=0,1\r\n",
    "    while not b>number:\r\n",
    "        fibonacci_series.append(b)\r\n",
    "        a,b=b,a+b\r\n",
    "    return fibonacci_series"
   ],
   "outputs": [],
   "metadata": {}
  },
  {
   "cell_type": "code",
   "execution_count": 2,
   "source": [
    "fibonacci_series(13)"
   ],
   "outputs": [
    {
     "output_type": "execute_result",
     "data": {
      "text/plain": [
       "[0, 1, 1, 1, 2, 3, 5, 8, 13]"
      ]
     },
     "metadata": {},
     "execution_count": 2
    }
   ],
   "metadata": {}
  },
  {
   "cell_type": "code",
   "execution_count": 3,
   "source": [
    "fibonacci_series(62)"
   ],
   "outputs": [
    {
     "output_type": "execute_result",
     "data": {
      "text/plain": [
       "[0, 1, 1, 1, 2, 3, 5, 8, 13, 21, 34, 55]"
      ]
     },
     "metadata": {},
     "execution_count": 3
    }
   ],
   "metadata": {}
  }
 ]
}