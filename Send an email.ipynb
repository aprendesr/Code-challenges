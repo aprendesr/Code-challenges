{
 "metadata": {
  "language_info": {
   "codemirror_mode": {
    "name": "ipython",
    "version": 3
   },
   "file_extension": ".py",
   "mimetype": "text/x-python",
   "name": "python",
   "nbconvert_exporter": "python",
   "pygments_lexer": "ipython3",
   "version": "3.8.5"
  },
  "orig_nbformat": 2,
  "kernelspec": {
   "name": "python385jvsc74a57bd0f871b8c0e8ffaf06d88520d23ebfa543d97805f0741b6fa3f6d7830a8ab6bea5",
   "display_name": "Python 3.8.5 64-bit ('base': conda)"
  }
 },
 "nbformat": 4,
 "nbformat_minor": 2,
 "cells": [
  {
   "source": [
    "## Author: Alina Prendes Roque"
   ],
   "cell_type": "markdown",
   "metadata": {}
  },
  {
   "source": [
    "### Challenge: create a function that allows to send an email"
   ],
   "cell_type": "markdown",
   "metadata": {}
  },
  {
   "cell_type": "code",
   "execution_count": 1,
   "metadata": {},
   "outputs": [],
   "source": [
    "def send_email():\n",
    "    ''' This function allows to send an email to one or more destinataries. It does not require any input directly, but it is necessary to edit the information in the function code below (required fields are followed by #). The fields that need to be edited are: sender_email in the form of a string, receiver_email as a list of emails, the subject and the message body of the email to be sent. Additionally, it is required to enter the password of the sender email. In order to prevent this password from being written down inside the function, it is obtained via an input box, which provides more privacy. \n",
    "    This function can be also useful when called inside a conditional statement, for instance when an email is suppossed to be sent at a certain date and time (for birthdays), or for massive mailing for marketing purpuses.\n",
    "    '''\n",
    "    import smtplib, ssl\n",
    "    from email.mime.text import MIMEText\n",
    "    from email.mime.multipart import MIMEMultipart\n",
    "\n",
    "    sender_email = \"example@gmail.com\" # Here comes the email from which the email is to be sent (needs to be from a gmail account)\n",
    "    receiver_email = [\"firstemail@yahoo.com\", \"secondemail@gmail.com\"] # Here comes a list of addresses where the email is to be sent. Each list element represents an email, so if an element contains more than one address, this means one email with many (visible) destinataries\n",
    "    password = input(\"Type your password and press enter:\")\n",
    "\n",
    "    for i in range(len(receiver_email)):\n",
    "        message = MIMEMultipart(\"alternative\")\n",
    "        message[\"Subject\"] = \"Here comes the subject of the email\" # Here comes the subject of the email\n",
    "        message[\"From\"] = sender_email\n",
    "        message[\"To\"] = receiver_email[i]\n",
    "        message_body = \"\"\"\\\n",
    "        <html>\n",
    "        <body>\n",
    "            <p>Hello everyone,\n",
    "                <br><a href=\"https://www.linkedin.com/in/alinaprendesroque/\">Here</a> you can access my Linkedin profile.\n",
    "                <br>Feel free to let me know your comments about this project. \n",
    "                <br>Happy coding :)\n",
    "                <br>Alina\n",
    "            </p>\n",
    "        </body>\n",
    "        </html>\n",
    "        \"\"\" # Here comes the message body in html format\n",
    "        text = MIMEText(message_body, \"html\")\n",
    "        message.attach(text)\n",
    "\n",
    "        context = ssl.create_default_context()\n",
    "        with smtplib.SMTP_SSL(\"smtp.gmail.com\", 465, context=context) as server:\n",
    "            server.login(sender_email, password)\n",
    "            server.sendmail(sender_email, receiver_email[i] , message.as_string())\n",
    "            server.quit() \n",
    "    print(\"Sending process was finished successfully\")"
   ]
  },
  {
   "cell_type": "code",
   "execution_count": 2,
   "metadata": {},
   "outputs": [
    {
     "output_type": "stream",
     "name": "stdout",
     "text": [
      "Sending process was finished successfully\n"
     ]
    }
   ],
   "source": [
    "send_email()"
   ]
  }
 ]
}