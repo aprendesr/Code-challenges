{
 "metadata": {
  "language_info": {
   "codemirror_mode": {
    "name": "ipython",
    "version": 3
   },
   "file_extension": ".py",
   "mimetype": "text/x-python",
   "name": "python",
   "nbconvert_exporter": "python",
   "pygments_lexer": "ipython3",
   "version": "3.8.5"
  },
  "orig_nbformat": 2,
  "kernelspec": {
   "name": "python385jvsc74a57bd0f871b8c0e8ffaf06d88520d23ebfa543d97805f0741b6fa3f6d7830a8ab6bea5",
   "display_name": "Python 3.8.5 64-bit ('base': conda)"
  }
 },
 "nbformat": 4,
 "nbformat_minor": 2,
 "cells": [
  {
   "source": [
    "## Author: Alina Prendes Roque"
   ],
   "cell_type": "markdown",
   "metadata": {}
  },
  {
   "source": [
    "### Challenge: write a Python function to sort the words in a given string"
   ],
   "cell_type": "markdown",
   "metadata": {}
  },
  {
   "cell_type": "code",
   "execution_count": 1,
   "metadata": {},
   "outputs": [],
   "source": [
    "def sort_string(phrase):\n",
    "    ''' This function sorts a string of words separated by spaces. It requires a string as an input and the output is another string, whose words are sorted alphabetically. In this case, the function is not case sensitive. For example:\n",
    "    For the following input: sort_string(\"This should be sorted alphabetically\"), the output would be the following: 'alphabetically be should sorted This'\n",
    "    '''\n",
    "    sorted_string=\"\"\n",
    "    sorted_list = sorted(phrase.split(), key=str.casefold)\n",
    "    sorted_string= \" \".join(sorted_list)\n",
    "    return sorted_string"
   ]
  },
  {
   "cell_type": "code",
   "execution_count": 2,
   "metadata": {},
   "outputs": [
    {
     "output_type": "execute_result",
     "data": {
      "text/plain": [
       "'alphabetically be should sorted This'"
      ]
     },
     "metadata": {},
     "execution_count": 2
    }
   ],
   "source": [
    "sort_string(\"This should be sorted alphabetically\")"
   ]
  }
 ]
}