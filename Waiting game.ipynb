{
 "metadata": {
  "language_info": {
   "codemirror_mode": {
    "name": "ipython",
    "version": 3
   },
   "file_extension": ".py",
   "mimetype": "text/x-python",
   "name": "python",
   "nbconvert_exporter": "python",
   "pygments_lexer": "ipython3",
   "version": "3.8.5"
  },
  "orig_nbformat": 2,
  "kernelspec": {
   "name": "python385jvsc74a57bd0f871b8c0e8ffaf06d88520d23ebfa543d97805f0741b6fa3f6d7830a8ab6bea5",
   "display_name": "Python 3.8.5 64-bit ('base': conda)"
  }
 },
 "nbformat": 4,
 "nbformat_minor": 2,
 "cells": [
  {
   "source": [
    "## Author: Alina Prendes Roque"
   ],
   "cell_type": "markdown",
   "metadata": {}
  },
  {
   "source": [
    "### Challenge: create a function that determines how accurately a user estimates a given duration"
   ],
   "cell_type": "markdown",
   "metadata": {}
  },
  {
   "cell_type": "code",
   "execution_count": 1,
   "metadata": {},
   "outputs": [],
   "source": [
    "import datetime"
   ]
  },
  {
   "cell_type": "code",
   "execution_count": 2,
   "metadata": {},
   "outputs": [],
   "source": [
    "def waiting_game(duration):\n",
    "    ''' This function returns how accurrately an user can estimate a given duration (in seconds). It requires an integer number as an input and the output is a string that indicates the absolute and percentage error of the estimation. The time starts and ends  when the user presses \"enter\" key. For example:\n",
    "    For the following input: waiting_game(5), the output could be (depending on when the \"enter\" key was pressed: \n",
    "    Congratulations, you estimated the 5 seconds with 100% accuracy\n",
    "    You were 0.88 seconds too fast. The percentage error of your estimation is 17.6 %\n",
    "    You were 0.21 seconds too fast. The percentage error of your estimation is 4.2 %\n",
    "    '''\n",
    "    start=input(\"Please press enter to start counting the time.\")\n",
    "    start=datetime.datetime.now()\n",
    "    end=input(\"When you consider that {} seconds have passed by, please press enter again.\".format(duration))\n",
    "    end=datetime.datetime.now()\n",
    "    estimation=(end-start).total_seconds()\n",
    "    abs_error=round(duration-estimation,2)\n",
    "    percentage_error=round((abs_error/duration)*100,2)\n",
    "    if abs_error==0:\n",
    "        print(\"Congratulations, you estimated the\", duration, \"seconds with 100% accurracy.\")\n",
    "    elif abs_error<0:\n",
    "        print(\"You were\", abs(abs_error), \"seconds too slow. The percentage error of your estimation is\", abs(percentage_error), \"%\")\n",
    "    elif abs_error>0:\n",
    "        print(\"You were\", abs(abs_error), \"seconds too fast. The percentage error of your estimation is\", abs(percentage_error), \"%\")"
   ]
  },
  {
   "cell_type": "code",
   "execution_count": 3,
   "metadata": {},
   "outputs": [
    {
     "output_type": "stream",
     "name": "stdout",
     "text": [
      "You were 0.21 seconds too fast. The percentage error of your estimation is 4.2 %\n"
     ]
    }
   ],
   "source": [
    "waiting_game(5)"
   ]
  }
 ]
}