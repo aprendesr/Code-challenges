{
 "metadata": {
  "language_info": {
   "codemirror_mode": {
    "name": "ipython",
    "version": 3
   },
   "file_extension": ".py",
   "mimetype": "text/x-python",
   "name": "python",
   "nbconvert_exporter": "python",
   "pygments_lexer": "ipython3",
   "version": "3.9.3"
  },
  "orig_nbformat": 2,
  "kernelspec": {
   "name": "python3",
   "display_name": "Python 3.9.3 64-bit"
  },
  "interpreter": {
   "hash": "2f8e0b015f7cbe8bca759a12ca466dc64ed9680d5dadd94aff6735eaff601a41"
  }
 },
 "nbformat": 4,
 "nbformat_minor": 2,
 "cells": [
  {
   "cell_type": "markdown",
   "source": [
    "## Author: Alina Prendes Roque"
   ],
   "metadata": {}
  },
  {
   "cell_type": "markdown",
   "source": [
    "### Challenge: given an integer number, write a Python function to find all prime factors \n",
    "\n",
    "Note: This solution proposal contains two functions. The first one determines whether a number is prime or not, while the second gets a list of prime factors of a given number. While the first function can be used independently for other purpuses, the second function uses the first function in order to determine whether a factor is prime or not."
   ],
   "metadata": {}
  },
  {
   "cell_type": "code",
   "execution_count": 1,
   "source": [
    "def determine_prime(number):\r\n",
    "    ''' This function determines whether a given number is prime or not. It requires an integer number as an input and the output is True when the number is prime and False when it is not. For example:\r\n",
    "    For the following input: determine_prime(100), the output would be false, as 100 is not a prime number\r\n",
    "    For the following input: determine_prime(17), the output would be true, as 17 is a prime number\r\n",
    "    '''\r\n",
    "    Prime=True\r\n",
    "    if number>1:\r\n",
    "        for i in range(2,number):\r\n",
    "            if number % i == 0:\r\n",
    "                Prime=False\r\n",
    "                break\r\n",
    "    else: \r\n",
    "        Prime=False\r\n",
    "    return Prime"
   ],
   "outputs": [],
   "metadata": {}
  },
  {
   "cell_type": "code",
   "execution_count": 2,
   "source": [
    "determine_prime(100)"
   ],
   "outputs": [
    {
     "output_type": "execute_result",
     "data": {
      "text/plain": [
       "False"
      ]
     },
     "metadata": {},
     "execution_count": 2
    }
   ],
   "metadata": {}
  },
  {
   "cell_type": "code",
   "execution_count": 3,
   "source": [
    "determine_prime(17)"
   ],
   "outputs": [
    {
     "output_type": "execute_result",
     "data": {
      "text/plain": [
       "True"
      ]
     },
     "metadata": {},
     "execution_count": 3
    }
   ],
   "metadata": {}
  },
  {
   "cell_type": "code",
   "execution_count": 4,
   "source": [
    "def get_prime_factors(number):\r\n",
    "    ''' This function returns a list of prime factors for a given number. It requires an integer number as an input and the output is a sorted list of prime factors. For example:\r\n",
    "    For the following input: get_prime_factors(100), the output would be the following list: [2, 2, 5, 5]. Note that all the elements on the list are prime and their product is 100\r\n",
    "    '''\r\n",
    "    prime_factors=list()\r\n",
    "    while not determine_prime(number) == True:\r\n",
    "        for i in range(2,number):\r\n",
    "            if ((number%i==0) and (determine_prime(i)==True)):\r\n",
    "                prime_factors.append(i)\r\n",
    "                number=int(number/i)\r\n",
    "                # print(prime_factors,number)\r\n",
    "                break\r\n",
    "    if determine_prime(number)==True: prime_factors.append(number)\r\n",
    "    prime_factors.sort()\r\n",
    "    return (prime_factors)"
   ],
   "outputs": [],
   "metadata": {}
  },
  {
   "cell_type": "code",
   "execution_count": 5,
   "source": [
    "get_prime_factors(100)"
   ],
   "outputs": [
    {
     "output_type": "execute_result",
     "data": {
      "text/plain": [
       "[2, 2, 5, 5]"
      ]
     },
     "metadata": {},
     "execution_count": 5
    }
   ],
   "metadata": {}
  }
 ]
}