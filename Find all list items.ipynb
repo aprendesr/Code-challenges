{
 "metadata": {
  "language_info": {
   "codemirror_mode": {
    "name": "ipython",
    "version": 3
   },
   "file_extension": ".py",
   "mimetype": "text/x-python",
   "name": "python",
   "nbconvert_exporter": "python",
   "pygments_lexer": "ipython3",
   "version": "3.9.3"
  },
  "orig_nbformat": 2,
  "kernelspec": {
   "name": "python3",
   "display_name": "Python 3.9.3 64-bit"
  },
  "interpreter": {
   "hash": "2f8e0b015f7cbe8bca759a12ca466dc64ed9680d5dadd94aff6735eaff601a41"
  }
 },
 "nbformat": 4,
 "nbformat_minor": 2,
 "cells": [
  {
   "cell_type": "markdown",
   "source": [
    "## Author: Alina Prendes Roque"
   ],
   "metadata": {}
  },
  {
   "cell_type": "markdown",
   "source": [
    "### Challenge: write a Python function to index all the items in a given list that are equal to a given value"
   ],
   "metadata": {}
  },
  {
   "cell_type": "code",
   "execution_count": 1,
   "source": [
    "def find_all_list_items(input_list,K):\r\n",
    "    ''' This function returns a list of the indexes of all the items of a list that are equal to a given value. It requires a list and a value N as input and the output is another list, whose values are the indexes of the list items that are equal to N. This function is able to search into nested lists. For example:\r\n",
    "    For the following input: find_all_list_items([[[1,2,3],2,[1,3]],[1,2,3]],2), the output would be: [[0,0,1],[0,1],[1,1]]\r\n",
    "    '''\r\n",
    "    indexes=list()\r\n",
    "    for i in range(len(input_list)):\r\n",
    "        if input_list[i]==K: \r\n",
    "            indexes.append([i])\r\n",
    "        elif isinstance(input_list[i],list):\r\n",
    "            for index in find_all_list_items(input_list[i],K): indexes.append([i]+index)\r\n",
    "    return (indexes)"
   ],
   "outputs": [],
   "metadata": {}
  },
  {
   "cell_type": "code",
   "execution_count": 2,
   "source": [
    "find_all_list_items([[[1,2,3],2,[1,3]],[1,2,3]],2)"
   ],
   "outputs": [
    {
     "output_type": "execute_result",
     "data": {
      "text/plain": [
       "[[0, 0, 1], [0, 1], [1, 1]]"
      ]
     },
     "metadata": {},
     "execution_count": 2
    }
   ],
   "metadata": {}
  }
 ]
}