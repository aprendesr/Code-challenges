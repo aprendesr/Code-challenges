{
 "metadata": {
  "language_info": {
   "codemirror_mode": {
    "name": "ipython",
    "version": 3
   },
   "file_extension": ".py",
   "mimetype": "text/x-python",
   "name": "python",
   "nbconvert_exporter": "python",
   "pygments_lexer": "ipython3",
   "version": "3.9.3"
  },
  "orig_nbformat": 2,
  "kernelspec": {
   "name": "python3",
   "display_name": "Python 3.9.3 64-bit"
  },
  "interpreter": {
   "hash": "2f8e0b015f7cbe8bca759a12ca466dc64ed9680d5dadd94aff6735eaff601a41"
  }
 },
 "nbformat": 4,
 "nbformat_minor": 2,
 "cells": [
  {
   "cell_type": "markdown",
   "source": [
    "## Author: Alina Prendes Roque"
   ],
   "metadata": {}
  },
  {
   "cell_type": "markdown",
   "source": [
    "### Challenge: create a Python function to generate passphrases"
   ],
   "metadata": {}
  },
  {
   "cell_type": "code",
   "execution_count": 1,
   "source": [
    "def generate_passphrase(num_words):\r\n",
    "    ''' This function allows to generate a passphrase using the diceware system. It takes as a single argument the number of words that the passphrase should contain, and returns a string of random words separated by spaces. For example:\r\n",
    "    For the following input: generate_password(5), the output would be \"bone surge camp stub shave\".   \r\n",
    "    '''\r\n",
    "    import random\r\n",
    "    dictionary=dict()\r\n",
    "    number=\"\"\r\n",
    "    passphrase=\"\"\r\n",
    "    text=open(\"diceware.wordlist.txt\")\r\n",
    "    for line in text:\r\n",
    "        try:\r\n",
    "            int(line[0:6]) # This line of code is necessary because the word list contains other non relevant information\r\n",
    "            dictionary[line.split()[0]]=line.split()[1]\r\n",
    "        except: \r\n",
    "            continue\r\n",
    "    # print(dictionary)\r\n",
    "    for iteration in range(int(num_words)):\r\n",
    "        for element in range(5): number=str(random.randint(1,6))+number\r\n",
    "        for k,v in dictionary.items(): \r\n",
    "            if k==number: word=v\r\n",
    "        passphrase = (passphrase + \" \" + word).strip()\r\n",
    "        number=\"\"\r\n",
    "    return(passphrase)"
   ],
   "outputs": [],
   "metadata": {}
  },
  {
   "cell_type": "code",
   "execution_count": 2,
   "source": [
    "generate_passphrase(\"5\")"
   ],
   "outputs": [
    {
     "output_type": "execute_result",
     "data": {
      "text/plain": [
       "'slog fr agate lb cell'"
      ]
     },
     "metadata": {},
     "execution_count": 2
    }
   ],
   "metadata": {}
  }
 ]
}