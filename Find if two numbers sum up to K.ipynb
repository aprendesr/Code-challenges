{
 "metadata": {
  "language_info": {
   "codemirror_mode": {
    "name": "ipython",
    "version": 3
   },
   "file_extension": ".py",
   "mimetype": "text/x-python",
   "name": "python",
   "nbconvert_exporter": "python",
   "pygments_lexer": "ipython3",
   "version": "3.8.5"
  },
  "orig_nbformat": 2,
  "kernelspec": {
   "name": "python385jvsc74a57bd0f871b8c0e8ffaf06d88520d23ebfa543d97805f0741b6fa3f6d7830a8ab6bea5",
   "display_name": "Python 3.8.5 64-bit ('base': conda)"
  }
 },
 "nbformat": 4,
 "nbformat_minor": 2,
 "cells": [
  {
   "source": [
    "## Author: Alina Prendes Roque"
   ],
   "cell_type": "markdown",
   "metadata": {}
  },
  {
   "source": [
    "### Challenge: given a list of numbers and a number K, return whether any two numbers from the list add up to K"
   ],
   "cell_type": "markdown",
   "metadata": {}
  },
  {
   "cell_type": "code",
   "execution_count": 1,
   "metadata": {},
   "outputs": [],
   "source": [
    "def sum_up_to(lista,K):\n",
    "    ''' This function determines whether two numbers of a given list add up to a given K number. It requires a list of numbers and an integer number as an input and the output is True when any two numbers add up to K and False when none of the numbers add up to K. For example:\n",
    "    For the following input: sum_up_to([8,6,13,7], 60), the output would be False, since no combination of two-numbers adds up to 60     For the following input: sum_up_to([8,6,13,7], 15), the output would be True, since 8 + 7 = 15\n",
    "    '''\n",
    "    Answer=False\n",
    "    for i in range(0,len(lista)-1):\n",
    "        for j in range(1,len(lista)):\n",
    "            if (lista[i]+lista[j])==K: \n",
    "                # print(lista[i], lista[j])\n",
    "                Answer=True\n",
    "                break\n",
    "    return Answer"
   ]
  },
  {
   "cell_type": "code",
   "execution_count": 2,
   "metadata": {},
   "outputs": [
    {
     "output_type": "execute_result",
     "data": {
      "text/plain": [
       "False"
      ]
     },
     "metadata": {},
     "execution_count": 2
    }
   ],
   "source": [
    "sum_up_to([8,6,13,7], 60)"
   ]
  },
  {
   "cell_type": "code",
   "execution_count": 3,
   "metadata": {},
   "outputs": [
    {
     "output_type": "execute_result",
     "data": {
      "text/plain": [
       "True"
      ]
     },
     "metadata": {},
     "execution_count": 3
    }
   ],
   "source": [
    "sum_up_to([8,6,13,7], 15)"
   ]
  }
 ]
}