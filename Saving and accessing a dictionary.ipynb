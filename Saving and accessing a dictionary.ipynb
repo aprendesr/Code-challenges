{
 "metadata": {
  "language_info": {
   "codemirror_mode": {
    "name": "ipython",
    "version": 3
   },
   "file_extension": ".py",
   "mimetype": "text/x-python",
   "name": "python",
   "nbconvert_exporter": "python",
   "pygments_lexer": "ipython3",
   "version": "3.9.3"
  },
  "orig_nbformat": 2,
  "kernelspec": {
   "name": "python3",
   "display_name": "Python 3.9.3 64-bit"
  },
  "interpreter": {
   "hash": "2f8e0b015f7cbe8bca759a12ca466dc64ed9680d5dadd94aff6735eaff601a41"
  }
 },
 "nbformat": 4,
 "nbformat_minor": 2,
 "cells": [
  {
   "cell_type": "markdown",
   "source": [
    "## Author: Alina Prendes Roque"
   ],
   "metadata": {}
  },
  {
   "cell_type": "markdown",
   "source": [
    "### Challenge: create a Python function to save a dictionary to file and another function that allows to open the saved file"
   ],
   "metadata": {}
  },
  {
   "cell_type": "code",
   "execution_count": 1,
   "source": [
    "def saving_dictionary(dictionary, path):\r\n",
    "    ''' This function allows to save a dictionary into a file. It requires two inputs: the dictionary that is to be saved and the file path where the output should be located. For example:\r\n",
    "    For the following input: saving_dictionary({\"France\" : \"Paris\", \"Germany\" : \"Berlin\", \"Cuba\" : \"Havana\"},\"Dictionary.txt\"), a .txt file named \"Dictionary\" that contains the information will be created.  \r\n",
    "    '''\r\n",
    "    File = open(path,\"w\")\r\n",
    "    File.write(str(dictionary))\r\n",
    "    File.close()"
   ],
   "outputs": [],
   "metadata": {}
  },
  {
   "cell_type": "code",
   "execution_count": 2,
   "source": [
    "def accessing_dictionary(path):\r\n",
    "    ''' This function allows to access a dictionary that was previously saved to a file. It requires the path where the file is located, and returns the information contained in the file in the form of a Python dictionary. For example:\r\n",
    "    For the following input: accessing_dictionary(Dictionary.txt), the output would be {'France': 'Paris', 'Germany': 'Berlin', 'Cuba': 'Havana'}, which was the originally saved dictionary. \r\n",
    "    '''\r\n",
    "    import ast\r\n",
    "    File= open(path, \"r\")\r\n",
    "    data=File.read()\r\n",
    "    dictionary = ast.literal_eval(data)\r\n",
    "    return (dictionary)"
   ],
   "outputs": [],
   "metadata": {}
  },
  {
   "cell_type": "code",
   "execution_count": 3,
   "source": [
    "saving_dictionary({\"France\" : \"Paris\", \"Germany\" : \"Berlin\", \"Cuba\" : \"Havana\"},\"Dictionary.txt\")"
   ],
   "outputs": [],
   "metadata": {}
  },
  {
   "cell_type": "code",
   "execution_count": 4,
   "source": [
    "accessing_dictionary(\"Dictionary.txt\")"
   ],
   "outputs": [
    {
     "output_type": "execute_result",
     "data": {
      "text/plain": [
       "{'France': 'Paris', 'Germany': 'Berlin', 'Cuba': 'Havana'}"
      ]
     },
     "metadata": {},
     "execution_count": 4
    }
   ],
   "metadata": {}
  }
 ]
}