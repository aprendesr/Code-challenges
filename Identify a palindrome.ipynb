{
 "metadata": {
  "language_info": {
   "codemirror_mode": {
    "name": "ipython",
    "version": 3
   },
   "file_extension": ".py",
   "mimetype": "text/x-python",
   "name": "python",
   "nbconvert_exporter": "python",
   "pygments_lexer": "ipython3",
   "version": "3.9.3"
  },
  "orig_nbformat": 2,
  "kernelspec": {
   "name": "python3",
   "display_name": "Python 3.9.3 64-bit"
  },
  "interpreter": {
   "hash": "2f8e0b015f7cbe8bca759a12ca466dc64ed9680d5dadd94aff6735eaff601a41"
  }
 },
 "nbformat": 4,
 "nbformat_minor": 2,
 "cells": [
  {
   "cell_type": "markdown",
   "source": [
    "## Author: Alina Prendes Roque"
   ],
   "metadata": {}
  },
  {
   "cell_type": "markdown",
   "source": [
    "### Challenge: write a Python function to determine if a given string is a palindrome\n",
    "\n",
    "Note: There are two different solution proposals that lead to the same outcome through different approaches. The first function is shorter and more efficient, but both of them allow to determine if a string is a palindrome or not.  "
   ],
   "metadata": {}
  },
  {
   "cell_type": "code",
   "execution_count": 1,
   "source": [
    "import string"
   ],
   "outputs": [],
   "metadata": {}
  },
  {
   "cell_type": "code",
   "execution_count": 2,
   "source": [
    "def determine_palindrome(phrase):\r\n",
    "    ''' This function determines whether a given string is a palindrome or not. It requires a string as an input and the output is True when it is a palindrome and False when it is not. In this case, the function is not case sensitive and will only consider letters from A-Z. If there are any punctuation symbols, they will not be taken into consideration. For example:\r\n",
    "    For the following input: determine_palindrome(This is a palindrome), the output would be False, as this string is not a palindrome\r\n",
    "    For the following input: determine_palindrome(Go hang a salami, I'm a lasagna hog.), the output would be True\r\n",
    "    '''\r\n",
    "    phrase=(\"\".join(phrase.split())).lower()\r\n",
    "    phrase=list(phrase)\r\n",
    "    phrase=(\"\".join([element for element in phrase if element not in string.punctuation]))\r\n",
    "    return phrase==phrase[::-1]"
   ],
   "outputs": [],
   "metadata": {}
  },
  {
   "cell_type": "code",
   "execution_count": 3,
   "source": [
    "determine_palindrome(\"This is a palindrome\")"
   ],
   "outputs": [
    {
     "output_type": "execute_result",
     "data": {
      "text/plain": [
       "False"
      ]
     },
     "metadata": {},
     "execution_count": 3
    }
   ],
   "metadata": {}
  },
  {
   "cell_type": "code",
   "execution_count": 4,
   "source": [
    "determine_palindrome(\"Go hang a salami, I'm a lasagna hog.\")"
   ],
   "outputs": [
    {
     "output_type": "execute_result",
     "data": {
      "text/plain": [
       "True"
      ]
     },
     "metadata": {},
     "execution_count": 4
    }
   ],
   "metadata": {}
  },
  {
   "cell_type": "code",
   "execution_count": 5,
   "source": [
    "def determine_palindrome(phrase):\r\n",
    "    ''' This function determines whether a given string is a palindrome or not. It requires a string as an input and the output is True when it is a palindrome and False when it is not. In this case, the function is not case sensitive and will only consider letters from A-Z. If there are any punctuation symbols, they will not be taken into consideration. For example:\r\n",
    "    For the following input: determine_palindrome(This is a palindrome), the output would be False, as this string is not a palindrome\r\n",
    "    For the following input: determine_palindrome(Go hang a salami, I'm a lasagna hog.), the output would be True\r\n",
    "    '''\r\n",
    "    phrase=(\"\".join(phrase.split())).lower()\r\n",
    "    for letter in phrase:\r\n",
    "        if letter in string.punctuation: phrase=phrase.replace(letter,\"\")\r\n",
    "    length=len(phrase)\r\n",
    "    Palindrome=True\r\n",
    "    if length%2==0:\r\n",
    "        for i in range(0,int(length/2)):\r\n",
    "            # print(phrase[i], phrase[length-(i+1)])\r\n",
    "            if not phrase[i] == phrase[length-(i+1)]:\r\n",
    "                Palindrome=False \r\n",
    "                break\r\n",
    "    else: \r\n",
    "        for i in range(0,int((length-1)/2)):\r\n",
    "            if not phrase[i] == phrase[length-(i+1)]:\r\n",
    "                Palindrome=False \r\n",
    "                break\r\n",
    "    return Palindrome"
   ],
   "outputs": [],
   "metadata": {}
  },
  {
   "cell_type": "code",
   "execution_count": 6,
   "source": [
    "determine_palindrome(\"This is a palindrome\")"
   ],
   "outputs": [
    {
     "output_type": "execute_result",
     "data": {
      "text/plain": [
       "False"
      ]
     },
     "metadata": {},
     "execution_count": 6
    }
   ],
   "metadata": {}
  },
  {
   "cell_type": "code",
   "execution_count": 7,
   "source": [
    "determine_palindrome(\"Go hang a salami, I'm a lasagna hog.\")"
   ],
   "outputs": [
    {
     "output_type": "execute_result",
     "data": {
      "text/plain": [
       "True"
      ]
     },
     "metadata": {},
     "execution_count": 7
    }
   ],
   "metadata": {}
  }
 ]
}